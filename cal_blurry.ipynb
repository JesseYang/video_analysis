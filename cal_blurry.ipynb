{
 "cells": [
  {
   "cell_type": "code",
   "execution_count": null,
   "metadata": {
    "collapsed": true
   },
   "outputs": [],
   "source": [
    "# calculate blurry of each frame and output the video with blurry writing on it"
   ]
  },
  {
   "cell_type": "code",
   "execution_count": 1,
   "metadata": {
    "collapsed": true
   },
   "outputs": [],
   "source": [
    "import numpy as np\n",
    "import cv2\n",
    "import os\n",
    "import uuid\n",
    "import math\n",
    "from IPython.core.debugger import Tracer"
   ]
  },
  {
   "cell_type": "code",
   "execution_count": 4,
   "metadata": {
    "collapsed": false
   },
   "outputs": [],
   "source": [
    "video_path = 'archive/data2/input_video/800x450/IMG_0027.avi'\n",
    "\n",
    "name = video_path.replace('.avi', '_blurry.avi')\n",
    "font = cv2.FONT_HERSHEY_SIMPLEX\n",
    "fourcc = cv2.cv.CV_FOURCC(*'XVID')\n",
    "\n",
    "cap = cv2.VideoCapture(video_path)\n",
    "width = int(cap.get(cv2.cv.CV_CAP_PROP_FRAME_WIDTH))\n",
    "height = int(cap.get(cv2.cv.CV_CAP_PROP_FRAME_HEIGHT))\n",
    "\n",
    "out = cv2.VideoWriter(name, fourcc, 25, (width, height))\n",
    "\n",
    "while cap.isOpened():\n",
    "    frame_idx = int(cap.get(cv2.cv.CV_CAP_PROP_POS_FRAMES))\n",
    "    ret, frame = cap.read()\n",
    "    if ret != True:\n",
    "        break\n",
    "    blurry = cv2.Laplacian(frame, cv2.CV_64F).var()\n",
    "    cv2.putText(frame, \"Blurry: {:.2f}\".format(blurry), (10, 80),\n",
    "        font, 1, (0, 0, 255), 2)\n",
    "    out.write(frame)\n",
    "out.release()\n",
    "cap.release()\n",
    "cv2.destroyAllWindows()"
   ]
  },
  {
   "cell_type": "code",
   "execution_count": null,
   "metadata": {
    "collapsed": true
   },
   "outputs": [],
   "source": []
  }
 ],
 "metadata": {
  "kernelspec": {
   "display_name": "Python 2",
   "language": "python",
   "name": "python2"
  },
  "language_info": {
   "codemirror_mode": {
    "name": "ipython",
    "version": 2
   },
   "file_extension": ".py",
   "mimetype": "text/x-python",
   "name": "python",
   "nbconvert_exporter": "python",
   "pygments_lexer": "ipython2",
   "version": "2.7.6"
  }
 },
 "nbformat": 4,
 "nbformat_minor": 1
}
