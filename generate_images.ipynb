{
 "cells": [
  {
   "cell_type": "code",
   "execution_count": null,
   "metadata": {
    "collapsed": false
   },
   "outputs": [],
   "source": [
    "# from the input video and the labels, extract the images"
   ]
  },
  {
   "cell_type": "code",
   "execution_count": 1,
   "metadata": {
    "collapsed": true
   },
   "outputs": [],
   "source": [
    "import numpy as np\n",
    "import cv2\n",
    "import os\n",
    "import uuid\n",
    "import math\n",
    "from IPython.core.debugger import Tracer"
   ]
  },
  {
   "cell_type": "code",
   "execution_count": 10,
   "metadata": {
    "collapsed": false
   },
   "outputs": [],
   "source": [
    "video_path = 'archive/data2/input_video/800x450/IMG_0027.avi'\n",
    "label_path = 'archive/data2/video_for_segmentation/IMG_0027.txt'\n",
    "image_dir = 'archive/data2/images/800x450/'\n",
    "\n",
    "min_frame_interval = 100\n",
    "last_image_idx = -1\n",
    "\n",
    "with open(label_path) as f:\n",
    "    content = f.readlines()\n",
    "\n",
    "cap = cv2.VideoCapture(video_path)\n",
    "\n",
    "while cap.isOpened():\n",
    "    frame_idx = int(cap.get(cv2.cv.CV_CAP_PROP_POS_FRAMES))\n",
    "    ret, frame = cap.read()\n",
    "    if ret != True:\n",
    "        break\n",
    "    if last_image_idx > 0 and frame_idx - last_image_idx < min_frame_interval:\n",
    "        continue\n",
    "    if content[0][frame_idx] == '1':\n",
    "        last_image_idx = frame_idx\n",
    "        cv2.imwrite\n",
    "        image_path = image_dir + str(uuid.uuid1()) + '.png'\n",
    "        cv2.imwrite(image_path, frame)\n",
    "cap.release()\n",
    "cv2.destroyAllWindows()"
   ]
  },
  {
   "cell_type": "code",
   "execution_count": null,
   "metadata": {
    "collapsed": true
   },
   "outputs": [],
   "source": []
  }
 ],
 "metadata": {
  "kernelspec": {
   "display_name": "Python 2",
   "language": "python",
   "name": "python2"
  },
  "language_info": {
   "codemirror_mode": {
    "name": "ipython",
    "version": 2
   },
   "file_extension": ".py",
   "mimetype": "text/x-python",
   "name": "python",
   "nbconvert_exporter": "python",
   "pygments_lexer": "ipython2",
   "version": "2.7.6"
  }
 },
 "nbformat": 4,
 "nbformat_minor": 1
}
